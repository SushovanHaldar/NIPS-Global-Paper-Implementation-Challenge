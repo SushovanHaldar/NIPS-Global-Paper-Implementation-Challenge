{
 "cells": [
  {
   "cell_type": "code",
   "execution_count": null,
   "metadata": {
    "collapsed": true,
    "deletable": true,
    "editable": true
   },
   "outputs": [],
   "source": [
    "import keras\n",
    "import numpy as np\n",
    "import pandas as pd\n",
    "from keras.applications import vgg16, resnet50\n",
    "from keras.preprocessing.image import load_img\n",
    "from keras.preprocessing.image import img_to_array\n",
    "from keras.applications.imagenet_utils import preprocess_input, decode_predictions\n",
    "import matplotlib.pyplot as plt\n",
    "import os\n",
    "from PIL import Image\n",
    "from sklearn.model_selection import StratifiedShuffleSplit\n",
    "from sklearn.model_selection import StratifiedShuffleSplit\n",
    "import math\n",
    "import scipy\n",
    "from scipy.stats import binom\n",
    "import pickle\n",
    "%matplotlib inline"
   ]
  },
  {
   "cell_type": "code",
   "execution_count": null,
   "metadata": {
    "collapsed": true,
    "deletable": true,
    "editable": true
   },
   "outputs": [],
   "source": [
    "# Load VGG16 model\n",
    "vgg16_model = vgg16.VGG16(weights='imagenet')"
   ]
  },
  {
   "cell_type": "code",
   "execution_count": null,
   "metadata": {
    "collapsed": true,
    "deletable": true,
    "editable": true
   },
   "outputs": [],
   "source": [
    "# Load the pickle file for obtaining the classes\n",
    "DAT_FILE_PATH = \"imagenet_val/imagenet-classes-dict.dat\"\n",
    "pickle_in = open(DAT_FILE_PATH, \"rb\")\n",
    "classes_dict = pickle.load(pickle_in)"
   ]
  },
  {
   "cell_type": "code",
   "execution_count": null,
   "metadata": {
    "collapsed": true,
    "deletable": true,
    "editable": true
   },
   "outputs": [],
   "source": [
    "# Get .JPEG file names\n",
    "DIR_PATH = \"imagenet_val/val/\"\n",
    "filelist = os.listdir(DIR_PATH)\n",
    "filelist = sorted(filelist)"
   ]
  },
  {
   "cell_type": "code",
   "execution_count": null,
   "metadata": {
    "collapsed": true,
    "deletable": true,
    "editable": true
   },
   "outputs": [],
   "source": [
    "# Load the target labels\n",
    "LABELS_FILE_PATH = 'imagenet_val/ILSVRC2012_validation_ground_truth.txt'\n",
    "y = np.loadtxt(LABELS_FILE_PATH, skiprows=0)"
   ]
  },
  {
   "cell_type": "code",
   "execution_count": null,
   "metadata": {
    "collapsed": true,
    "deletable": true,
    "editable": true
   },
   "outputs": [],
   "source": [
    "# Predict the probabilities and labels of validation samples\n",
    "predict_prob = []\n",
    "predict_label = []\n",
    "residuals = []\n",
    "\n",
    "for i in range(50000):\n",
    "\n",
    "    if i%1000 == 0:\n",
    "        print(i)\n",
    "\n",
    "    filename = \"imagenet_val/val/\" + filelist[i]\n",
    "    # load an image in PIL format\n",
    "    original = load_img(filename)\n",
    "    #print('PIL image size',original.size)\n",
    "    #plt.imshow(original)\n",
    "    #plt.show()\n",
    "    #wpercent = (basewidth/float(original.size[0]))\n",
    "    #hsize = int((float(original.size[1])*float(wpercent)))\n",
    "    #original = original.resize((basewidth,hsize), Image.ANTIALIAS)\n",
    "    \n",
    "    aspect_ratio = original.size[0]/original.size[1]\n",
    "    \n",
    "    if original.size[0] < original.size[1]:\n",
    "        width = 256\n",
    "        height = width/aspect_ratio\n",
    "    else:\n",
    "        height = 256\n",
    "        width = height * aspect_ratio\n",
    "    \n",
    "    original = original.resize((int(width), int(height)))\n",
    "        \n",
    "    \n",
    "    width, height = original.size   # Get dimensions\n",
    "\n",
    "    left = (width - 224)/2\n",
    "    top = (height - 224)/2\n",
    "    right = (width + 224)/2\n",
    "    bottom = (height + 224)/2\n",
    "\n",
    "    original = original.crop((left, top, right, bottom))\n",
    "\n",
    "    # convert the PIL image to a numpy array\n",
    "    # IN PIL - image is in (width, height, channel)\n",
    "    # In Numpy - image is in (height, width, channel)\n",
    "    numpy_image = img_to_array(original)\n",
    "\n",
    "    # Convert the image / images into batch format\n",
    "    # expand_dims will add an extra dimension to the data at a particular axis\n",
    "    # We want the input matrix to the network to be of the form (batchsize, height, width, channels)\n",
    "    # Thus we add the extra dimension to the axis 0.\n",
    "    image_batch = np.expand_dims(numpy_image, axis=0)\n",
    "    \n",
    "\n",
    "    # prepare the image for the VGG model\n",
    "    processed_image = preprocess_input(image_batch)\n",
    " \n",
    "    # get the predicted probabilities for each class\n",
    "    predictions = vgg16_model.predict(processed_image)\n",
    "    label = decode_predictions(predictions)\n",
    "    predict_prob.append(np.max(predictions))\n",
    "    predict_label.append(classes_dict[label[0][0][0]])\n",
    "    #print(classes_dict[label[0][0][0]], y[i])\n",
    "    label_top5 = []\n",
    "    for j in range(5):\n",
    "        label_top5.append(classes_dict[label[0][j][0]])\n",
    "    #print(len(label_top5))\n",
    "    if y[i] in label_top5:\n",
    "        residuals.append(0)\n",
    "    else:\n",
    "        residuals.append(1)"
   ]
  },
  {
   "cell_type": "code",
   "execution_count": null,
   "metadata": {
    "collapsed": true,
    "deletable": true,
    "editable": true
   },
   "outputs": [],
   "source": [
    "# Convert lists to arrays\n",
    "predict_prob = np.array(predict_prob)\n",
    "predict_label = np.array(predict_label)\n",
    "residuals = np.array(residuals)"
   ]
  },
  {
   "cell_type": "code",
   "execution_count": null,
   "metadata": {
    "collapsed": true,
    "deletable": true,
    "editable": true
   },
   "outputs": [],
   "source": [
    "# Check the accuracy\n",
    "Accuracy = ((50000 - sum(residuals))/50000)*100\n",
    "\n",
    "print(\"Accuracy is: \", Accuracy)"
   ]
  },
  {
   "cell_type": "code",
   "execution_count": null,
   "metadata": {
    "collapsed": true,
    "deletable": true,
    "editable": true
   },
   "outputs": [],
   "source": [
    "# Splitting the validation dataset for training and testing SGR algorithm\n",
    "sss = StratifiedShuffleSplit(n_splits=2, test_size=0.5, random_state=8)\n",
    "\n",
    "for train_index, test_index in sss.split(predict_prob, y):\n",
    "    prob_train, prob_test = predict_prob[train_index], predict_prob[test_index]\n",
    "    residuals_train, residuals_test = residuals[train_index], residuals[test_index]"
   ]
  },
  {
   "cell_type": "code",
   "execution_count": null,
   "metadata": {
    "collapsed": true,
    "deletable": true,
    "editable": true
   },
   "outputs": [],
   "source": [
    "def calculate_bound(delta, m, risk):\n",
    "        \n",
    "        epsilon = 1e-7\n",
    "        \n",
    "        x = risk         # Lower bound\n",
    "        z = 1            # Upper bound\n",
    "        y = (x + z)/2    # mid point\n",
    "        \n",
    "        epsilonhat  = (-1*delta) + scipy.stats.binom.cdf(int(m*risk), m, y)\n",
    "        \n",
    "        while abs(epsilonhat)>epsilon:\n",
    "            if epsilonhat>0:\n",
    "                x = y\n",
    "            else:\n",
    "                z = y\n",
    "                \n",
    "            y = (x + z)/2\n",
    "            #print(\"x\", x)\n",
    "            #print(\"y\", y)\n",
    "            epsilonhat  = (-1*delta) + scipy.stats.binom.cdf(int(m*risk), m, y)\n",
    "            #print(epsilonhat)\n",
    "        return y"
   ]
  },
  {
   "cell_type": "code",
   "execution_count": null,
   "metadata": {
    "collapsed": true,
    "deletable": true,
    "editable": true
   },
   "outputs": [],
   "source": [
    "def SGR(targetrisk, delta, predict_sgr_train_prob, predict_sgr_test_prob, residuals_sgr_train, residuals_sgr_test):\n",
    "\n",
    "        # Number of training samples for SGR algorithm\n",
    "        m = len(residuals_sgr_train)\n",
    "\n",
    "        # Sort the probabilities\n",
    "        probs_idx_sorted = np.argsort(predict_sgr_train_prob)\n",
    "\n",
    "        zmin = 0\n",
    "        zmax = m-1\n",
    "        deltahat = delta/math.ceil(math.log2(m))\n",
    "\n",
    "        for i in range(math.ceil(math.log2(m) + 1)):\n",
    "            \n",
    "            #print(\"iteration\", i)\n",
    "\n",
    "            mid = math.ceil((zmin+zmax)/2)\n",
    "\n",
    "            mi = len(residuals_sgr_train[probs_idx_sorted[mid:]])\n",
    "            theta = predict_sgr_train_prob[probs_idx_sorted[mid]]\n",
    "            trainrisk = sum(residuals_sgr_train[probs_idx_sorted[mid:]])/mi\n",
    "            \n",
    "            \n",
    "            testrisk = (sum(residuals_sgr_test[predict_sgr_test_prob>=theta]))/(len(residuals_sgr_test[predict_sgr_test_prob>=theta])+1)\n",
    "            testcoverage = (len(residuals_sgr_test[predict_sgr_test_prob>=theta]))/(len(predict_sgr_test_prob))\n",
    "                \n",
    "            \n",
    "            bound = calculate_bound(deltahat, mi, trainrisk)\n",
    "            traincoverage = mi/m\n",
    "            \n",
    "            if bound>targetrisk:\n",
    "                zmin = mid\n",
    "            else:\n",
    "                zmax = mid\n",
    "\n",
    "        return targetrisk, trainrisk, traincoverage, testrisk, testcoverage, bound\n"
   ]
  },
  {
   "cell_type": "code",
   "execution_count": null,
   "metadata": {
    "collapsed": true,
    "deletable": true,
    "editable": true
   },
   "outputs": [],
   "source": [
    "# Define confidence level\n",
    "delta = 0.001"
   ]
  },
  {
   "cell_type": "code",
   "execution_count": null,
   "metadata": {
    "collapsed": true,
    "deletable": true,
    "editable": true
   },
   "outputs": [],
   "source": [
    "desired_risk = []\n",
    "train_risk = []\n",
    "train_coverage = []\n",
    "test_risk = []\n",
    "test_coverage = []\n",
    "risk_bound = []"
   ]
  },
  {
   "cell_type": "code",
   "execution_count": null,
   "metadata": {
    "collapsed": true,
    "deletable": true,
    "editable": true
   },
   "outputs": [],
   "source": [
    "# Different desired risk values\n",
    "rstar = [0.01, 0.02, 0.03, 0.04, 0.05, 0.06, 0.07]"
   ]
  },
  {
   "cell_type": "code",
   "execution_count": null,
   "metadata": {
    "collapsed": true,
    "deletable": true,
    "editable": true
   },
   "outputs": [],
   "source": [
    "# Testing the SGR algorithm for different desired risk values\n",
    "\n",
    "for i in range(len(rstar)):\n",
    "    \n",
    "    # For desired risk 0.01\n",
    "    desiredrisk, trainrisk, traincov, testrisk, testcov, riskbound = SGR(rstar[i],delta, prob_train, prob_test, residuals_train, residuals_test)\n",
    "\n",
    "    # Append the values to the list\n",
    "    desired_risk.append(desiredrisk)\n",
    "    train_risk.append(trainrisk)\n",
    "    train_coverage.append(traincov)\n",
    "    test_risk.append(testrisk)\n",
    "    test_coverage.append(testcov)\n",
    "    risk_bound.append(riskbound)"
   ]
  },
  {
   "cell_type": "code",
   "execution_count": null,
   "metadata": {
    "collapsed": true,
    "deletable": true,
    "editable": true
   },
   "outputs": [],
   "source": [
    "Result = [('Desired Risk', desired_risk) ,\n",
    "          ('Train Risk', train_risk),\n",
    "          ('Train Coverage', train_coverage),\n",
    "          ('Test Risk', test_risk),\n",
    "          ('Test Coverage', test_coverage),\n",
    "          ('Risk bound', risk_bound)]"
   ]
  },
  {
   "cell_type": "code",
   "execution_count": null,
   "metadata": {
    "collapsed": true,
    "deletable": true,
    "editable": true
   },
   "outputs": [],
   "source": [
    "Result = pd.DataFrame.from_items(Result)\n",
    "print(Result)"
   ]
  },
  {
   "cell_type": "code",
   "execution_count": null,
   "metadata": {
    "collapsed": true,
    "deletable": true,
    "editable": true
   },
   "outputs": [],
   "source": []
  }
 ],
 "metadata": {
  "kernelspec": {
   "display_name": "Python 3",
   "language": "python",
   "name": "python3"
  },
  "language_info": {
   "codemirror_mode": {
    "name": "ipython",
    "version": 3
   },
   "file_extension": ".py",
   "mimetype": "text/x-python",
   "name": "python",
   "nbconvert_exporter": "python",
   "pygments_lexer": "ipython3",
   "version": "3.5.2"
  }
 },
 "nbformat": 4,
 "nbformat_minor": 2
}
